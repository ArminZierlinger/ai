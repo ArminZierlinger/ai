{
 "cells": [
  {
   "cell_type": "markdown",
   "id": "95a57b57",
   "metadata": {},
   "source": [
    "Name | Matr.Nr. | Due Date\n",
    ":--- | ---: | ---:\n",
    "Firstname Lastname | 01234567 | 16.03.2025, 22:00"
   ]
  },
  {
   "cell_type": "markdown",
   "id": "87761f45-bde3-4c09-8b34-5c9672894a0e",
   "metadata": {},
   "source": [
    "<h1 style=\"color:rgb(0,120,170)\">Hands-on AI II</h1>\n",
    "<h2 style=\"color:rgb(0,120,170)\">Unit 1 &ndash; Recap Hands-on AI I (Assignment)</h2>"
   ]
  },
  {
   "cell_type": "markdown",
   "id": "western-owner",
   "metadata": {},
   "source": [
    "<b>Authors:</b> B. Schäfl, S. Lehner, J. Brandstetter, A. Schörgenhumer, S. Luukkonen, R. Dangl<br>\n",
    "<b>Date:</b> 04.03.2025\n",
    "\n",
    "This file is part of the \"Hands-on AI II\" lecture material. The following copyright statement applies to all code within this file.\n",
    "\n",
    "<b>Copyright statement:</b><br>\n",
    "This material, no matter whether in printed or electronic form, may be used for personal and non-commercial educational use only. Any reproduction of this material, no matter whether as a whole or in parts, no matter whether in printed or in electronic form, requires explicit prior acceptance of the authors."
   ]
  },
  {
   "cell_type": "markdown",
   "id": "2989faf2-4194-4583-af96-717ff48f32eb",
   "metadata": {},
   "source": [
    "<h3 style=\"color:rgb(0,120,170)\">How to use this notebook</h3>\n",
    "\n",
    "This notebook is designed to run from start to finish. There are different tasks (displayed in <span style=\"color:rgb(248,138,36)\">orange boxes</span>) which require your contribution (in form of code, plain text, ...). Most/All of the supplied functions are imported from the file <code>u1_utils.py</code> which can be seen and treated as a black box. However, for further understanding, you can look at the implementations of the helper functions. In order to run this notebook, the packages which are imported at the beginning of <code>u1_utils.py</code> need to be installed."
   ]
  },
  {
   "cell_type": "markdown",
   "id": "6135c2ed-b2bd-4864-9ec2-74af7274d1a1",
   "metadata": {},
   "source": [
    "<div class=\"alert alert-warning\">\n",
    "    <b>Important:</b> Set the random seed with <code>u1.set_seed(123)</code> to enable reproducible results in all tasks that incorporate randomness (e.g., t-SNE, splitting data intro train and test sets, initializing weights of a neural network, running the model optimization with random batches, etc.). You must use <code>123</code> as seed.\n",
    "</div>"
   ]
  },
  {
   "cell_type": "code",
   "execution_count": null,
   "id": "willing-proportion",
   "metadata": {
    "tags": []
   },
   "outputs": [],
   "source": [
    "# Import pre-defined utilities specific to this notebook.\n",
    "import u1_utils as u1\n",
    "\n",
    "# Import additional utilities needed in this notebook.\n",
    "import matplotlib.pyplot as plt\n",
    "import numpy as np\n",
    "import seaborn as sns\n",
    "import pandas as pd\n",
    "import torch\n",
    "from scipy import signal\n",
    "\n",
    "from sklearn.cluster import KMeans, AgglomerativeClustering\n",
    "from scipy.cluster.hierarchy import linkage\n",
    "\n",
    "# Set default plotting style.\n",
    "sns.set_theme()\n",
    "\n",
    "# Setup Jupyter notebook (warning: this may affect all Jupyter notebooks running on the same Jupyter server).\n",
    "u1.setup_jupyter()\n",
    "\n",
    "# Check minimum versions.\n",
    "u1.check_module_versions()"
   ]
  },
  {
   "cell_type": "markdown",
   "id": "available-village",
   "metadata": {},
   "source": [
    "<h2>1. Tabular data</h2>"
   ]
  },
  {
   "cell_type": "markdown",
   "id": "3da0b3cd",
   "metadata": {},
   "source": [
    "<p>In this exercise you'll be working with another famous data set, the <i>breast cancer</i> data set. Features are computed from a digitized image of a fine needle aspirate (FNA) of a breast mass. They describe characteristics of the cell nuclei present in the image [<a href=\"https://archive.ics.uci.edu/ml/datasets/Breast+Cancer+Wisconsin+%28Diagnostic%29\">1</a>]. Publication:\n",
    "\n",
    "<center><cite>W.N. Street, W.H. Wolberg and O.L. Mangasarian. Nuclear feature extraction for breast tumor diagnosis. IS&T/SPIE 1993 International Symposium on Electronic Imaging: Science and Technology, volume 1905, pages 861-870, San Jose, CA, 1993.</cite></center>"
   ]
  },
  {
   "cell_type": "markdown",
   "id": "5488057a",
   "metadata": {},
   "source": [
    "<div class=\"alert alert-warning\">\n",
    "    <b>Exercise 1.1. [3 Points]</b>\n",
    "    <ul>\n",
    "        <li>Load the <i>breast cancer</i> data set using the appropriate function as supplied by us.</li>\n",
    "        <li>Split the data set into the feature vector matrix and the label vector.</li>\n",
    "        <li>Visualize the data set in tabular form (the whole data set with target column).</li>\n",
    "    </ul>\n",
    "</div>"
   ]
  },
  {
   "cell_type": "code",
   "execution_count": null,
   "id": "heated-october",
   "metadata": {
    "tags": []
   },
   "outputs": [],
   "source": [
    "# Your code"
   ]
  },
  {
   "cell_type": "markdown",
   "id": "14c07e5d",
   "metadata": {},
   "source": [
    "<div class=\"alert alert-warning\">\n",
    "    <b>Exercise 1.2. [3 Points]</b>\n",
    "    <ul>\n",
    "        <li>How many samples does the data set contain?</li>\n",
    "        <li>How many features does the data set consist of (not counting the class label column <i>class</i>)?</li>\n",
    "        <li>How many different classes are there?</li>\n",
    "    </ul>\n",
    "</div>"
   ]
  },
  {
   "cell_type": "markdown",
   "id": "d6d355b9-c414-4046-b0dc-0e4a9d6f0987",
   "metadata": {},
   "source": [
    "Your answer"
   ]
  },
  {
   "cell_type": "markdown",
   "id": "f0caeb86",
   "metadata": {},
   "source": [
    "<div class=\"alert alert-warning\">\n",
    "    <b>Exercise 1.3. [1 Point]</b>\n",
    "    <ul>\n",
    "        <li>Print the location measures (min, max, median, mean, etc.) for the features.</li>\n",
    "    </ul>\n",
    "</div>"
   ]
  },
  {
   "cell_type": "code",
   "execution_count": null,
   "id": "french-praise",
   "metadata": {
    "tags": []
   },
   "outputs": [],
   "source": [
    "# Your code"
   ]
  },
  {
   "cell_type": "markdown",
   "id": "9c7b6fe0",
   "metadata": {},
   "source": [
    "<div class=\"alert alert-warning\">\n",
    "    <b>Exercise 1.4. [3 Points]</b>\n",
    "    <ul>\n",
    "        <li>Compute a pairplot of the data set with respect to all features that contain the <i>mean</i> value.</li>\n",
    "    </ul>\n",
    "</div>"
   ]
  },
  {
   "cell_type": "code",
   "execution_count": null,
   "id": "8aff819c",
   "metadata": {},
   "outputs": [],
   "source": [
    "# Your code"
   ]
  },
  {
   "cell_type": "markdown",
   "id": "1e39d2ef",
   "metadata": {},
   "source": [
    "<div class=\"alert alert-warning\">\n",
    "    <b>Exercise 1.5. [3 Points]</b>\n",
    "    <ul>\n",
    "        <li>Create boxplots for all features that contain the <i>mean</i> value, grouped by class.</li>\n",
    "    </ul>\n",
    "</div>"
   ]
  },
  {
   "cell_type": "code",
   "execution_count": null,
   "id": "701d45b0",
   "metadata": {},
   "outputs": [],
   "source": [
    "# Your code"
   ]
  },
  {
   "cell_type": "markdown",
   "id": "d1d5f99c",
   "metadata": {},
   "source": [
    "<div class=\"alert alert-warning\">\n",
    "    <b>Exercise 1.6. [3 Points]</b>\n",
    "    <ul>\n",
    "        <li>Create histograms for all features that contain the <i>mean</i> value, grouped by class.</li>\n",
    "    </ul>\n",
    "</div>"
   ]
  },
  {
   "cell_type": "code",
   "execution_count": null,
   "id": "b27e8f40",
   "metadata": {},
   "outputs": [],
   "source": [
    "# Your code"
   ]
  },
  {
   "cell_type": "markdown",
   "id": "ba4d4534",
   "metadata": {},
   "source": [
    "<div class=\"alert alert-warning\">\n",
    "    <b>Exercise 1.7. [8 Points]</b>\n",
    "    <p>\n",
    "    Compare and interpret the results:\n",
    "    </p>\n",
    "    <ul>\n",
    "        <li>In the pairplot, which feature might indicate linear separability of the classes?</li>\n",
    "        <li>What can be said about outliers in the boxplots?</li>\n",
    "        <li>What can be said about the median values in the boxplots with respect to the two groups?</li>\n",
    "        <li>Are the distributions of the values symmetric when looking at the boxplots and histograms? How can you determine this from the boxplots?</li>\n",
    "    </ul>\n",
    "</div>"
   ]
  },
  {
   "cell_type": "markdown",
   "id": "5715c987-d7cc-450e-b375-34b968005222",
   "metadata": {},
   "source": [
    "Your answer"
   ]
  },
  {
   "cell_type": "markdown",
   "id": "e6a71c5c",
   "metadata": {},
   "source": [
    "  <div class=\"alert alert-warning\">\n",
    "    <b>Exercise 1.8. [1 Point]</b>\n",
    "    <ul>\n",
    "        <li>Use standard scaling on the feature vector matrix with <code>u1.standardize_data()</code></li>\n",
    "            </ul>\n",
    "</div>"
   ]
  },
  {
   "cell_type": "code",
   "execution_count": null,
   "id": "related-proportion",
   "metadata": {
    "tags": []
   },
   "outputs": [],
   "source": [
    "# Your code"
   ]
  },
  {
   "cell_type": "markdown",
   "id": "4b70fbfe",
   "metadata": {},
   "source": [
    "<div class=\"alert alert-warning\">\n",
    "    <b>Exercise 1.9. [3 Points]</b>\n",
    "    <ul>\n",
    "        <li>Reduce the dimensionality of the scaled data set using <i>PCA</i> with 2 components and visualize the downprojection.</li>\n",
    "    </ul>\n",
    "</div>"
   ]
  },
  {
   "cell_type": "code",
   "execution_count": null,
   "id": "5b65b7e6",
   "metadata": {},
   "outputs": [],
   "source": [
    "# Your code"
   ]
  },
  {
   "cell_type": "markdown",
   "id": "36474966",
   "metadata": {},
   "source": [
    "<div class=\"alert alert-warning\">\n",
    "    <b>Exercise 1.10. [3 Points]</b>\n",
    "    <ul>\n",
    "        <li>Reduce the dimensionality of the scaled data set using <i>t-SNE</i> with 2 components and visualize the downprojection.</li>\n",
    "        <li>Choose a fitting perplexity.</li>\n",
    "    </ul>\n",
    "</div>"
   ]
  },
  {
   "cell_type": "code",
   "execution_count": null,
   "id": "acquired-component",
   "metadata": {
    "tags": []
   },
   "outputs": [],
   "source": [
    "# Your code"
   ]
  },
  {
   "cell_type": "markdown",
   "id": "1103536c",
   "metadata": {},
   "source": [
    "<div class=\"alert alert-warning\">\n",
    "    <b>Exercise 1.11. [6 Points]</b>\n",
    "    <ul>\n",
    "        <li>Create a k-Means model using two clusters. Use <code>random_state=123</code></li>\n",
    "        <li>Fit the model to the data set and predict the cluster labels.</li>\n",
    "        <li>Visualize the data set with respect to the cluster labels on the pca downprojected data.</li>\n",
    "    </ul>\n",
    "</div>"
   ]
  },
  {
   "cell_type": "code",
   "execution_count": null,
   "id": "fb994bbf",
   "metadata": {},
   "outputs": [],
   "source": [
    "# Your code"
   ]
  },
  {
   "cell_type": "markdown",
   "id": "13b77dc0",
   "metadata": {},
   "source": [
    "<div class=\"alert alert-warning\">\n",
    "    <b>Exercise 1.12. [4 Points]</b>\n",
    "    <ul>\n",
    "        <li>For hierarchical clustering: compute the linkage matrix (on scaled data) and plot the dendrogram.</li>\n",
    "    </ul>\n",
    "</div>"
   ]
  },
  {
   "cell_type": "code",
   "execution_count": null,
   "id": "21f7a0d8",
   "metadata": {},
   "outputs": [],
   "source": [
    "# Your code"
   ]
  },
  {
   "cell_type": "markdown",
   "id": "b4ab4037",
   "metadata": {},
   "source": [
    "<div class=\"alert alert-warning\">\n",
    "    <b>Exercise 1.13. [8 Points]</b>\n",
    "    <ul>\n",
    "        <li>Create a hierarchical model with the two clusters.</li>\n",
    "        <li>Fit the model to the data set and predict the cluster labels.</li>\n",
    "        <li>Visualize the data set with respect to the cluster labels on the pca downprojected data.</li>\n",
    "        <li>Interpret: compare k-means and hierarchical clustering.</li>\n",
    "    </ul>\n",
    "</div>"
   ]
  },
  {
   "cell_type": "code",
   "execution_count": null,
   "id": "63c17b88",
   "metadata": {},
   "outputs": [],
   "source": [
    "# Your code"
   ]
  },
  {
   "cell_type": "markdown",
   "id": "bcf4fb74",
   "metadata": {},
   "source": [
    "your answer"
   ]
  },
  {
   "cell_type": "markdown",
   "id": "leading-bidder",
   "metadata": {},
   "source": [
    "<h2>2. Image data</h2>"
   ]
  },
  {
   "cell_type": "markdown",
   "id": "977b9505",
   "metadata": {},
   "source": [
    "<p>In this exercise you'll be working with a data set composed of various images. The data set distinguishes <i>ten</i> different classes, one for each object (bird, cat, deer, etc.). For curious minds, more information regarding this data set and the images it contains can be found at the following link: <a href=\"https://www.cs.toronto.edu/~kriz/cifar.html\">CIFAR-10</a>.</p>\n",
    "\n",
    "<center><cite>Learning Multiple Layers of Features from Tiny Images, Alex Krizhevsky, 2009.</cite></center>\n"
   ]
  },
  {
   "cell_type": "markdown",
   "id": "bea94fe0",
   "metadata": {},
   "source": [
    "<div class=\"alert alert-warning\">\n",
    "    <b>Exercise 2.1. [2 Points]</b>\n",
    "    <ul>\n",
    "        <li>Load the <i>cifar10</i> data set using the appropriate function as supplied by us.</li>\n",
    "        <li>Visualize the cifar data set in tabular form.</li>\n",
    "    </ul>\n",
    "</div>"
   ]
  },
  {
   "cell_type": "code",
   "execution_count": null,
   "id": "third-nirvana",
   "metadata": {
    "tags": []
   },
   "outputs": [],
   "source": [
    "# Your code"
   ]
  },
  {
   "cell_type": "markdown",
   "id": "82cd8144",
   "metadata": {},
   "source": [
    "<div class=\"alert alert-warning\">\n",
    "    <b>Exercise 2.2. [10 Points]</b>\n",
    "    <ul>\n",
    "        <li>Define the following two $3 \\times 3$ filters (shown in the formulae below) and apply them on 12 random images $A$ from the above data set (with $*$ as the convolution and $\\sigma{}$ as the sigmoid operation) to produce the following 4 outputs $G_x, G'_x, G_y, G'_y$:</li>\n",
    "    </ul>\n",
    "    <p>\n",
    "        \\begin{equation}G_x = \\left(\n",
    "            \\begin{array}{rrr}\n",
    "                -5 & 0 & 5 \\\\\n",
    "                -5 & 0 & 5 \\\\\n",
    "                -5 & 0 & 5\n",
    "            \\end{array}\\right) * A\n",
    "            \\qquad\n",
    "            G'_x = \\sigma (G_x)\n",
    "        \\end{equation}\n",
    "    </p>\n",
    "    <p>\n",
    "        \\begin{equation}G_y = \\left(\n",
    "            \\begin{array}{rrr}\n",
    "                -5 & -5 & -5 \\\\\n",
    "                 0 &  0 &  0 \\\\\n",
    "                 5 &  5 &  5\n",
    "            \\end{array}\\right) * A\n",
    "            \\qquad\n",
    "            G'_y = \\sigma (G_y)\n",
    "        \\end{equation}\n",
    "    </p>\n",
    "    <ul>\n",
    "        <li>Hint: Make sure to exclude the class label column <i>item_type</i> before processing your data.</li>\n",
    "    </ul>\n",
    "</div>"
   ]
  },
  {
   "cell_type": "code",
   "execution_count": null,
   "id": "78caacf8-d5cf-4184-8c85-46044fff9206",
   "metadata": {
    "tags": []
   },
   "outputs": [],
   "source": [
    "# Your code"
   ]
  },
  {
   "cell_type": "markdown",
   "id": "6e250cd6",
   "metadata": {},
   "source": [
    "<div class=\"alert alert-warning\">\n",
    "    <b>Exercise 2.3. [5 Points]</b>\n",
    "    <ul>\n",
    "        <li>Using the data of the 12 samples from above, create a plot with 5 rows (or 5 columns, choose what you like), where</li>\n",
    "        <ul>\n",
    "            <li>(1) shows the original samples</li>\n",
    "            <li>(2) shows the samples after the convolution using the first filter, i.e., $G_x$</li>\n",
    "            <li>(3) shows the samples after the convolution using the first filter and after the application of sigmoid, i.e., $G'_x$</li>\n",
    "            <li>(4) shows the samples after the convolution using the second filter, i.e., $G_y$</li>\n",
    "            <li>(5) shows the samples after the convolution using the second filter and after the application of sigmoid, i.e., $G'_y$</li>\n",
    "        </ul>\n",
    "    </ul>\n",
    "</div>"
   ]
  },
  {
   "cell_type": "code",
   "execution_count": null,
   "id": "3f548d1d-3524-452e-9d89-a68b2f0eb4c3",
   "metadata": {
    "tags": []
   },
   "outputs": [],
   "source": [
    "# Your code"
   ]
  },
  {
   "cell_type": "markdown",
   "id": "b8098cf2",
   "metadata": {},
   "source": [
    "<div class=\"alert alert-warning\">\n",
    "    <b>Exercise 2.4. [8 Points]</b>\n",
    "    <ul>\n",
    "        <li>Implement a class <code>FNN</code> that derives from <code>torch.nn.Module</code> with the following architecture:</li>\n",
    "    </ul>\n",
    "    <table style=\"text-align:center;vertical-align:middle\">\n",
    "        <th>Position</th>\n",
    "        <th>Element</th>\n",
    "        <th>Comment</th>\n",
    "        <tr>\n",
    "            <td>0</td>\n",
    "            <td>input</td>\n",
    "            <td>input size = $3\\times{}32\\times{}32$ (flattened)</td>\n",
    "        </tr>\n",
    "        <tr>\n",
    "            <td>1</td>\n",
    "            <td>fully connected</td>\n",
    "            <td>$512$ output features</td>\n",
    "        </tr>\n",
    "        <tr>\n",
    "            <td>2</td>\n",
    "            <td>ReLU</td>\n",
    "            <td>-</td>\n",
    "        </tr>\n",
    "        <tr>\n",
    "            <td>3</td>\n",
    "            <td>fully connected</td>\n",
    "            <td>$512$ output features</td>\n",
    "        </tr>\n",
    "        <tr>\n",
    "            <td>4</td>\n",
    "            <td>ReLU</td>\n",
    "            <td>-</td>\n",
    "        </tr>\n",
    "        <tr>\n",
    "            <td>5</td>\n",
    "            <td>fully connected</td>\n",
    "            <td>$10$ output features</td>\n",
    "        </tr>\n",
    "    </table>\n",
    "</div>"
   ]
  },
  {
   "cell_type": "code",
   "execution_count": null,
   "id": "4f88f3ec-de6d-407b-b3c0-47248547a358",
   "metadata": {},
   "outputs": [],
   "source": [
    "# Your code"
   ]
  },
  {
   "cell_type": "markdown",
   "id": "822775e8",
   "metadata": {},
   "source": [
    "<div class=\"alert alert-warning\">\n",
    "    <b>Exercise 2.5. [8 Points]</b>\n",
    "    <ul>\n",
    "        <li>Implement a class <code>CNN</code> that derives from <code>torch.nn.Module</code> with the following architecture:</li>\n",
    "    </ul>\n",
    "    <table style=\"text-align:center;vertical-align:middle\">\n",
    "        <th>Position</th>\n",
    "        <th>Element</th>\n",
    "        <th>Comment</th>\n",
    "        <tr>\n",
    "            <td>0</td>\n",
    "            <td>input</td>\n",
    "            <td>input size = $3\\times{}32\\times{}32$</td>\n",
    "        </tr>\n",
    "        <tr>\n",
    "            <td>1</td>\n",
    "            <td>2D convolution</td>\n",
    "            <td>$32$ output channels and a kernel size of $3\\times{}3$</td>\n",
    "        </tr>\n",
    "        <tr>\n",
    "            <td>2</td>\n",
    "            <td>ReLU</td>\n",
    "            <td>-</td>\n",
    "        </tr>\n",
    "        <tr>\n",
    "            <td>3</td>\n",
    "            <td>max pooling</td>\n",
    "            <td>kernel size of $2\\times{}2$</td>\n",
    "        </tr>\n",
    "        <tr>\n",
    "            <td>4</td>\n",
    "            <td>fully connected</td>\n",
    "            <td>$512$ output features</td>\n",
    "        </tr>\n",
    "        <tr>\n",
    "            <td>5</td>\n",
    "            <td>ReLU</td>\n",
    "            <td>-</td>\n",
    "        </tr>\n",
    "        <tr>\n",
    "            <td>6</td>\n",
    "            <td>fully connected</td>\n",
    "            <td>$10$ output features</td>\n",
    "        </tr>\n",
    "    </table>\n",
    "</div>"
   ]
  },
  {
   "cell_type": "code",
   "execution_count": null,
   "id": "fdee0a5c-b316-4ba0-b7db-a2e51b46a66e",
   "metadata": {},
   "outputs": [],
   "source": [
    "# Your code"
   ]
  },
  {
   "cell_type": "markdown",
   "id": "f51627ad",
   "metadata": {},
   "source": [
    "<div class=\"alert alert-warning\">\n",
    "    <b>Exercise 2.6. [3 Points]</b>\n",
    "    <ul>\n",
    "        <li>Split the cifar data set in a <i>training</i> set ($75\\%$) as well as <i>test</i> set ($25\\%$).</li>\n",
    "        <li>Print the size of the full data set, the training set and the test set.</li>\n",
    "    </ul>\n",
    "</div>"
   ]
  },
  {
   "cell_type": "code",
   "execution_count": null,
   "id": "respective-humanitarian",
   "metadata": {},
   "outputs": [],
   "source": [
    "# Your code"
   ]
  },
  {
   "cell_type": "markdown",
   "id": "6b53df36",
   "metadata": {},
   "source": [
    "<div class=\"alert alert-warning\">\n",
    "    <b>Exercise 2.7. [5 Points]</b>\n",
    "    <ul>\n",
    "        <li>Create a corresponding <tt>TensorDataset</tt> for the training as well as the test set.</li>\n",
    "        <li>Wrap the previously defined <tt>TensorDataset</tt> instances in separate <tt>DataLoader</tt> instances with a batch size of $32$ (shuffle the training data set).</li>\n",
    "    </ul>\n",
    "</div>"
   ]
  },
  {
   "cell_type": "code",
   "execution_count": null,
   "id": "favorite-kernel",
   "metadata": {},
   "outputs": [],
   "source": [
    "# Your code"
   ]
  },
  {
   "cell_type": "markdown",
   "id": "6381b266",
   "metadata": {},
   "source": [
    "<div class=\"alert alert-warning\">\n",
    "    <b>Exercise 2.8. [10 Points]</b>\n",
    "    <ul>\n",
    "        <li>For both an instance of your <code>FNN</code> and <code>CNN</code> model from above, train for $5$ epochs, print the training accuracy as well as the loss per epoch, and afterwards, print the final test set loss and accuracy.</li>\n",
    "    </ul>\n",
    "</div>"
   ]
  },
  {
   "cell_type": "code",
   "execution_count": null,
   "id": "statistical-village",
   "metadata": {},
   "outputs": [],
   "source": [
    "# Your code"
   ]
  }
 ],
 "metadata": {
  "kernelspec": {
   "display_name": "Python 3 (ipykernel)",
   "language": "python",
   "name": "python3"
  },
  "language_info": {
   "codemirror_mode": {
    "name": "ipython",
    "version": 3
   },
   "file_extension": ".py",
   "mimetype": "text/x-python",
   "name": "python",
   "nbconvert_exporter": "python",
   "pygments_lexer": "ipython3",
   "version": "3.10.12"
  }
 },
 "nbformat": 4,
 "nbformat_minor": 5
}
